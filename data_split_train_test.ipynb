{
 "cells": [
  {
   "cell_type": "code",
   "execution_count": 6,
   "metadata": {},
   "outputs": [],
   "source": [
    "from glob import glob\n",
    "from sklearn.model_selection import train_test_split"
   ]
  },
  {
   "cell_type": "code",
   "execution_count": 34,
   "metadata": {},
   "outputs": [
    {
     "data": {
      "text/plain": [
       "'paper502.jpg'"
      ]
     },
     "execution_count": 34,
     "metadata": {},
     "output_type": "execute_result"
    }
   ],
   "source": [
    "'dataset-resized/paper/paper502.jpg'.split('/')[-1]\n"
   ]
  },
  {
   "cell_type": "code",
   "execution_count": 50,
   "metadata": {},
   "outputs": [],
   "source": [
    "!rm -rf data\n",
    "!mkdir data\n",
    "!mkdir data/train\n",
    "!mkdir data/test\n",
    "!mkdir data/valid\n",
    "\n",
    "for folder_name in glob('dataset-resized/*'):\n",
    "    category_name = folder_name.split('/')[-1]\n",
    "    !mkdir data/train/{category_name}\n",
    "    !mkdir data/test/{category_name}\n",
    "    !mkdir data/valid/{category_name}\n",
    "    "
   ]
  },
  {
   "cell_type": "code",
   "execution_count": 51,
   "metadata": {},
   "outputs": [
    {
     "name": "stdout",
     "output_type": "stream",
     "text": [
      "paper train: 475\n",
      "paper test: 59\n"
     ]
    },
    {
     "name": "stderr",
     "output_type": "stream",
     "text": [
      "/Users/Piper/anaconda3/envs/fastai/lib/python3.6/site-packages/sklearn/model_selection/_split.py:2026: FutureWarning: From version 0.21, test_size will always complement train_size unless both are specified.\n",
      "  FutureWarning)\n"
     ]
    },
    {
     "name": "stdout",
     "output_type": "stream",
     "text": [
      "metal train: 328\n",
      "metal test: 41\n",
      "cardboard train: 322\n",
      "cardboard test: 40\n",
      "trash train: 109\n",
      "trash test: 14\n",
      "glass train: 400\n",
      "glass test: 50\n",
      "plastic train: 385\n",
      "plastic test: 48\n"
     ]
    }
   ],
   "source": [
    "train_size = 0.8\n",
    "test_size = 0.1\n",
    "validation_size = 0.1 \n",
    "\n",
    "\n",
    "def move_files(full_string, set_name):\n",
    "    image_name = full_string.split('/')[-1]\n",
    "    file_location = f\"data/{set_name}/{category_name}/{image_name}\"\n",
    "    !ln -s $(pwd)/{full_string} $(pwd)/{file_location}\n",
    "    \n",
    "\n",
    "for folder_name in glob('dataset-resized/*'):\n",
    "    file_names = glob(f\"{folder_name}/*\")\n",
    "    train, proto_test = train_test_split(file_names, train_size=0.8)\n",
    "    test, valid = train_test_split(proto_test, train_size=0.5)\n",
    "    category_name = folder_name.split('/')[-1]\n",
    "    print(f\"{category_name} train: {len(train)}\")\n",
    "    print(f\"{category_name} test: {len(test)}\")\n",
    "    for tr_filename_full_string in train:\n",
    "        move_files(tr_filename_full_string, 'train')\n",
    "    for tr_filename_full_string in valid:\n",
    "        move_files(tr_filename_full_string, 'valid')\n",
    "    for tr_filename_full_string in test:\n",
    "        move_files(tr_filename_full_string, 'test')"
   ]
  },
  {
   "cell_type": "code",
   "execution_count": null,
   "metadata": {},
   "outputs": [],
   "source": []
  },
  {
   "cell_type": "code",
   "execution_count": null,
   "metadata": {},
   "outputs": [],
   "source": []
  }
 ],
 "metadata": {
  "kernelspec": {
   "display_name": "Python 3",
   "language": "python",
   "name": "python3"
  },
  "language_info": {
   "codemirror_mode": {
    "name": "ipython",
    "version": 3
   },
   "file_extension": ".py",
   "mimetype": "text/x-python",
   "name": "python",
   "nbconvert_exporter": "python",
   "pygments_lexer": "ipython3",
   "version": "3.6.5"
  }
 },
 "nbformat": 4,
 "nbformat_minor": 2
}
